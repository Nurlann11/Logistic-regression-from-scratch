{
 "cells": [
  {
   "cell_type": "markdown",
   "metadata": {
    "slideshow": {
     "slide_type": "fragment"
    }
   },
   "source": [
    "# **Logistic Regression from scratch**\n",
    "\n",
    "\n",
    "## **Equations:**\n",
    "<img src=\".\\images\\sigmoid.png\" alt=\"alt text\" width=\"600\"/>\n",
    "\n",
    "*y^* - predicted value\n",
    "\n",
    "*s(x)* - sigmoid function\n",
    "\n",
    "--- \n",
    "Cost function\n",
    "\n",
    "<img src=\".\\images\\cost_func.png\" alt=\"alt text\" width=\"600\"/>\n",
    "\n",
    "- In Logistic regression we use cross entropy function instead of MSE(mean square error).\n",
    "\n",
    "---\n",
    "\n",
    "We use gradient descent for Logistic regression. we need to calculate the gradient of cost function acctording to weights and bias. \n",
    "\n",
    "<img src=\".\\images\\gradient.png\" alt=\"alt text\" width=\"600\"/>\n",
    "\n",
    "*y_i* - actual value\n",
    "\n",
    "*y^* - predicted value\n",
    "\n",
    "---\n",
    "#### Gradient Descent\n",
    "<img src=\".\\images\\learning_rate.png\" alt=\"alt text\" width=\"600\"/>\n",
    "\n",
    "*α* - learning rate"
   ]
  },
  {
   "cell_type": "code",
   "execution_count": 2,
   "metadata": {},
   "outputs": [],
   "source": [
    "# libraries\n",
    "import numpy as np  \n",
    "import pandas as pd  \n",
    "import matplotlib.pyplot as plt  \n",
    "\n",
    "# for filtering warnings\n",
    "import warnings  \n",
    "warnings.filterwarnings('ignore')  # Ignore warnings\n",
    "\n",
    "from sklearn import datasets  # for loading datasets\n",
    "from sklearn.model_selection import train_test_split  #for split dataset 2 part: train and test sets\n",
    "from sklearn.linear_model import LogisticRegression  #LogisticRegression model\n",
    "from sklearn.metrics import *  \n"
   ]
  },
  {
   "cell_type": "code",
   "execution_count": 3,
   "metadata": {},
   "outputs": [],
   "source": [
    "class Log_reg():\n",
    "\n",
    "    def __init__(self,n_iterations = 100, learning_rate = 0.01):\n",
    "        self.bias = None\n",
    "        self.weights = None\n",
    "        self.learning_rate = learning_rate\n",
    "        self.n_iterations = n_iterations\n",
    "        \n",
    "    def sigmoid_f(self, z):\n",
    "        return 1 / (1 + np.exp(-z))\n",
    "    \n",
    "    def compute_cost(self, y, h):\n",
    "        m = len(y)\n",
    "        return -1/m * np.sum(y * np.log(h) + (1 - y) * np.log(1 - h))\n",
    "    \n",
    "    def fit(self, X, y):\n",
    "        n_samples = X.shape[0]\n",
    "        n_features = X.shape[1]   \n",
    "        \n",
    "        self.weights = np.ones(n_features)\n",
    "        self.bias = 1\n",
    "\n",
    "        for _ in range(self.n_iterations):\n",
    "            z = np.dot(X, self.weights) + self.bias    #linear prediction\n",
    "            predictions = self.sigmoid_f(z)\n",
    "\n",
    "            #update weights and bias\n",
    "            dw = 1/n_samples * np.dot(X.T, (predictions - y))\n",
    "            db = 1/n_samples * np.sum(predictions - y)\n",
    "        \n",
    "            self.weights = self.weights - self.learning_rate * dw\n",
    "            self.bias = self.bias - self.learning_rate * db\n",
    "\n",
    "    def predict(self, X):\n",
    "        z = np.dot(X, self.weights) + self.bias\n",
    "        y_pred = self.sigmoid_f(z)\n",
    "\n",
    "        class_pred = [0 if y<=0.5 else 1 for y in y_pred]\n",
    "        return class_pred\n",
    "    \n",
    "\n",
    "def accuracy(y_pred, y_test):\n",
    "    return np.sum(y_pred == y_test)/ len(y_test)\n"
   ]
  },
  {
   "cell_type": "code",
   "execution_count": 19,
   "metadata": {},
   "outputs": [
    {
     "name": "stdout",
     "output_type": "stream",
     "text": [
      "shape of X_train: (455, 30)\n",
      "shape of y_train: (455,)\n"
     ]
    }
   ],
   "source": [
    "# Loading breast_cancer data from scikit-learn datasets\n",
    "\n",
    "bc = datasets.load_breast_cancer()\n",
    "X,y  = bc.data, bc.target\n",
    "\n",
    "X_train, X_test, y_train, y_test = train_test_split(X,y,test_size=0.2,random_state=42)\n",
    "print(f'shape of X_train: {X_train.shape}')\n",
    "print(f'shape of y_train: {y_train.shape}')"
   ]
  },
  {
   "cell_type": "code",
   "execution_count": 16,
   "metadata": {},
   "outputs": [],
   "source": [
    "# Diabets dataset\n",
    "\n",
    "diabets = pd.read_csv(r'.\\diabets.csv')\n",
    "df = diabets.copy()\n",
    "df = df.dropna()\n",
    "\n",
    "X = df.drop(columns=['Outcome'])\n",
    "y = df['Outcome']\n",
    "\n",
    "X_train, X_test, y_train, y_test = train_test_split(X, y, \n",
    "                                                    test_size= 0.2, \n",
    "                                                    random_state=42)"
   ]
  },
  {
   "cell_type": "code",
   "execution_count": 20,
   "metadata": {},
   "outputs": [
    {
     "name": "stdout",
     "output_type": "stream",
     "text": [
      "accuracy of logistic regression from scratch: 0.9473684210526315\n"
     ]
    }
   ],
   "source": [
    "# logistic regression from scratch\n",
    "\n",
    "model = Log_reg(learning_rate=0.01,n_iterations=1000)\n",
    "model.fit(X_train,y_train)\n",
    "y_pred = model.predict(X_test)\n",
    "\n",
    "acc = accuracy(y_pred=y_pred,y_test=y_test)\n",
    "print(f'accuracy of logistic regression from scratch: {acc}')"
   ]
  },
  {
   "cell_type": "code",
   "execution_count": 21,
   "metadata": {},
   "outputs": [
    {
     "name": "stdout",
     "output_type": "stream",
     "text": [
      "accuracy of logistic regression from Scikit-learn: 0.956140350877193\n"
     ]
    }
   ],
   "source": [
    "# logistic regression from Scikit-learn\n",
    "logmodel  =  LogisticRegression(max_iter= 1000)\n",
    "logmodel.fit(X_train,y_train)\n",
    "y_pred=logmodel.predict(X=X_test)\n",
    "acc_log_reg = accuracy_score(y_true=y_test,y_pred=y_pred)\n",
    "print(f'accuracy of logistic regression from Scikit-learn: {acc_log_reg}')"
   ]
  }
 ],
 "metadata": {
  "kernelspec": {
   "display_name": "base",
   "language": "python",
   "name": "python3"
  },
  "language_info": {
   "codemirror_mode": {
    "name": "ipython",
    "version": 3
   },
   "file_extension": ".py",
   "mimetype": "text/x-python",
   "name": "python",
   "nbconvert_exporter": "python",
   "pygments_lexer": "ipython3",
   "version": "3.11.7"
  }
 },
 "nbformat": 4,
 "nbformat_minor": 2
}
